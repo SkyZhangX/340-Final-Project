{
  "nbformat": 4,
  "nbformat_minor": 0,
  "metadata": {
    "colab": {
      "name": "Untitled3.ipynb",
      "provenance": [],
      "collapsed_sections": []
    },
    "kernelspec": {
      "name": "python3",
      "display_name": "Python 3"
    },
    "accelerator": "GPU"
  },
  "cells": [
    {
      "cell_type": "code",
      "metadata": {
        "id": "25H_w6T0XTKZ"
      },
      "source": [
        "import os\n",
        "import timeit\n",
        "import time\n",
        "import numpy as np\n",
        "from collections import OrderedDict\n",
        "from pprint import pformat\n",
        "from tqdm import tqdm\n",
        "#from google.colab import drive\n",
        "import math\n",
        "import torch\n",
        "import torch.nn as nn\n",
        "import torch.nn.init as init\n",
        "import torch.nn.functional as F\n",
        "import torch.backends.cudnn as cudnn\n",
        "from torch.utils.data.sampler import *\n",
        "from torchvision import transforms, datasets\n",
        "import torch.optim.lr_scheduler as lr_anneal\n",
        "from torch.utils.data import Subset\n",
        "from torch.utils.data.sampler import SubsetRandomSampler\n",
        "from torch.autograd import Variable\n",
        "torch.multiprocessing.set_sharing_strategy('file_system')\n",
        "cudnn.benchmark = True\n",
        "\n",
        "import matplotlib.pyplot as plt\n"
      ],
      "execution_count": 14,
      "outputs": []
    },
    {
      "cell_type": "code",
      "metadata": {
        "colab": {
          "base_uri": "https://localhost:8080/"
        },
        "id": "rfc_ysnKQX6A",
        "outputId": "7853f0c5-c9a2-467c-e0c0-b90b7e1b3c01"
      },
      "source": [
        "# -*- coding: utf-8 -*-\n",
        "\n",
        "\n",
        "# Don't edit this cell\n",
        "import os\n",
        "import timeit\n",
        "import time\n",
        "import numpy as np\n",
        "from collections import OrderedDict\n",
        "from pprint import pformat\n",
        "from tqdm import tqdm\n",
        "#from google.colab import drive\n",
        "\n",
        "import torch\n",
        "import torch.nn as nn\n",
        "import torch.nn.init as init\n",
        "import torch.nn.functional as F\n",
        "import torch.backends.cudnn as cudnn\n",
        "from torch.utils.data.sampler import *\n",
        "from torchvision import transforms, datasets\n",
        "import torch.optim.lr_scheduler as lr_anneal\n",
        "from torch.utils.data import Subset\n",
        "\n",
        "torch.multiprocessing.set_sharing_strategy('file_system')\n",
        "cudnn.benchmark = True\n",
        "Epoch_loss = []\n",
        "# TODO: Main model definition + any utilities such as weight initialization or custom layers, ADD DROPOUT, BATCHNORM, SKIP CONNECTION,\n",
        "class Net(nn.Module):\n",
        "    def __init__(self):\n",
        "      super(Net,self).__init__()\n",
        "      self.pool = nn.MaxPool2d(2,2)\n",
        "      self.skip = nn.Identity()\n",
        "\n",
        "      self.conv11   = nn.Conv2d(3,16,3,padding=1)\n",
        "      self.batchnorm16 = nn.BatchNorm2d(16)\n",
        "      #set\n",
        "      self.downsample1 = nn.Conv2d(16,32,1,stride = 2)\n",
        "      self.conv12   = nn.Conv2d(16,32,3,padding=1)\n",
        "\n",
        "      self.conv21   = nn.Conv2d(32,32,3,padding=1)\n",
        "      #+\n",
        "      #set\n",
        "      self.downsample2 = nn.Conv2d(32,64,1,stride = 2)\n",
        "      self.batchnorm32 = nn.BatchNorm2d(32)\n",
        "      self.conv22   = nn.Conv2d(32,64,3,padding=1)\n",
        "\n",
        "      self.conv31   = nn.Conv2d(64,64,3,padding=1)\n",
        "      #+\n",
        "      self.batchnorm64 = nn.BatchNorm2d(64)\n",
        "      self.conv32   = nn.Conv2d(64,128,3,padding=1)\n",
        "      self.batchnorm128 = nn.BatchNorm2d(128)\n",
        "      self.fc1    = nn.Linear(128*4*4,2*2*128)\n",
        "      self.fc2    = nn.Linear(2*2*128,128)\n",
        "      self.fc3    = nn.Linear(128,10)\n",
        "      self.fcout = nn.Linear(128*4*4,10)\n",
        "    def forward(self,x):\n",
        "      '''\n",
        "      -> Use increasing dropout \n",
        "      \n",
        "      -> CNN structure for each block is like\n",
        "        _. conv => batch => conv => pool =>dropout\n",
        "        _. With skip connection every two conv\n",
        "\n",
        "      -> Three fully connected layers at the end\n",
        "        _. With drop out\n",
        "      '''\n",
        "      '''\n",
        "      first cnn block\n",
        "      '''\n",
        "      x = F.relu(self.conv11(x))\n",
        "      #batch normalization\n",
        "      x = self.batchnorm16(x)\n",
        "      #initial for skip connection\n",
        "      skip1 = x\n",
        "      skip1 = self.downsample1(skip1)\n",
        "      x = F.relu(self.conv12(x))\n",
        "      #maxPooling\n",
        "      x = self.pool(x)###\n",
        "      #dropout\n",
        "      x = F.dropout(x,p = 0.3)###\n",
        "\n",
        "\n",
        "      '''\n",
        "      second cnn block\n",
        "      '''\n",
        "      x = F.relu(self.conv21(x))\n",
        "      #skip connection\n",
        "      x = x+skip1\n",
        "      x = self.batchnorm32(x)\n",
        "      skip2 = x\n",
        "      ship2 = self.downsample2(skip2)\n",
        "      #print(\"skip2 shape\",skip2.shape)\n",
        "      x = F.relu(self.conv22(x))\n",
        "      x = self.pool(x)#may pool###\n",
        "      x = F.dropout(x,p = 0.4)###\n",
        "\n",
        "\n",
        "      '''\n",
        "      third cnn block\n",
        "      '''\n",
        "      x = F.relu(self.conv31(x))\n",
        "      #print(\"shape is\",x.shape)\n",
        "      #x = x+skip2 \n",
        "      x = self.batchnorm64(x)\n",
        "      x = F.relu(self.conv32(x))\n",
        "      x = self.batchnorm128(x)\n",
        "      x = self.pool(x)\n",
        "      x = F.dropout(x,p = 0.5)\n",
        "\n",
        "\n",
        "      '''\n",
        "      Flatten to fully connected layers\n",
        "      '''\n",
        "      #print(x.shape)\n",
        "      #flatten the layers\n",
        "      x = x.view(-1,128*4*4)\n",
        "      #First fully connected layer\n",
        "      x = self.fcout(F.relu(x))\n",
        "      '''\n",
        "      x = F.relu(self.fc1(x))\n",
        "      x = F.dropout(x,p = 0.5)\n",
        "      x = F.relu(self.fc2(x))\n",
        "      x = self.fc3(x)\n",
        "      '''\n",
        "      return x\n",
        "\n",
        "cnn = Net()\n",
        "\n",
        "# TODO: Cifar-10 dataloading\n",
        "def load_data(config):\n",
        "    \"\"\"\n",
        "    Load cifar-10 dataset using torchvision, take the last 5k of the training data to be validation data\n",
        "    \"\"\"\n",
        "    transform_train = transforms.Compose([\n",
        "        transforms.RandomCrop(32, padding=4),\n",
        "        transforms.RandomHorizontalFlip(),\n",
        "        transforms.ToTensor(),\n",
        "        transforms.Normalize((0.4914, 0.4822, 0.4465), (0.2023, 0.1994, 0.2010)),\n",
        "    ])\n",
        "\n",
        "    transform_test = transforms.Compose([\n",
        "        transforms.ToTensor(),\n",
        "        transforms.Normalize((0.4914, 0.4822, 0.4465), (0.2023, 0.1994, 0.2010)),\n",
        "    ])\n",
        "\n",
        "    cifar10_training = datasets.CIFAR10(root='./CIFAR10_dataset', train=True,\n",
        "                      download=True, transform=transform_train)\n",
        "    # training set\n",
        "    cifar10_training_set = Subset(\n",
        "        cifar10_training, range(len(cifar10_training)-5000))\n",
        "    # validation set\n",
        "    cifar10_validation_set = Subset(\n",
        "        cifar10_training, range(len(cifar10_training)-5000,len(cifar10_training)))\n",
        "    # test set\n",
        "    cifar10_test_set = datasets.CIFAR10(root='./CIFAR10_dataset', train=False,\n",
        "                      download=True, transform=transform_test)\n",
        "    #in config\n",
        "    batch_size_train = config['batch_size']\n",
        "    \n",
        "\n",
        "    #dataloaders\n",
        "    train_dataloader = torch.utils.data.DataLoader(\n",
        "            cifar10_training_set, batch_size=batch_size_train, shuffle=True, num_workers=2)\n",
        "    #\n",
        "    valid_dataloader = torch.utils.data.DataLoader(\n",
        "        cifar10_validation_set, batch_size=batch_size_train, shuffle=True, num_workers=2)\\\n",
        "    #\n",
        "    test_dataloader = torch.utils.data.DataLoader(\n",
        "        cifar10_test_set, batch_size=1, shuffle=True, num_workers=2)\n",
        "\n",
        "    return train_dataloader, valid_dataloader, test_dataloader\n",
        "\n",
        "# TODO : Main trainig + validation, returns the final model, save your best checkpoint based on the best validation accuracy\n",
        "def train(trainloader, valid_dataloader, device, config):\n",
        "    epoch_loss = []\n",
        "    \n",
        "    #hyperparameters\n",
        "    epoch = config['num_epochs']\n",
        "    lr = config['lr']\n",
        "    momentum = config['momentum']\n",
        "    decay = config['regular_constant']\n",
        "    batch_size = config['batch_size']\n",
        "    cnn.to(device)\n",
        "    \n",
        "    criterion = nn.CrossEntropyLoss()\n",
        "    optimizer = torch.optim.Adam(cnn.parameters(),\n",
        "            lr=lr,weight_decay=decay)\n",
        "    #learning rate annealing\n",
        "    scheduler = lr_anneal.StepLR(optimizer,step_size=15,gamma=0.1)\n",
        "    #initialize a accuracy to be saved for \n",
        "    best_acc=0.60\n",
        "    #training\n",
        "    for u in range(epoch):\n",
        "      cnn.train()\n",
        "      total_loss = 0\n",
        "      for batch_idx,(data,target) in tqdm(enumerate(trainloader),total=math.ceil(45000/batch_size),position=0,leave=True):\n",
        "        data  = data.to(device)\n",
        "        target = target.to(device)\n",
        "        optimizer.zero_grad()\n",
        "        output = cnn(data).to(device)\n",
        "        \n",
        "        loss = criterion(output,target)\n",
        "        total_loss += loss        \n",
        "        loss.backward()\n",
        "        optimizer.step()\n",
        "      Epoch_loss.append(total_loss.item())\n",
        "\n",
        "      print(\"epoch version: \",(u+1))\n",
        "\n",
        "\n",
        "      \n",
        "      #validating\n",
        "      cnn.eval()\n",
        "      \n",
        "      mean_acc = 0\n",
        "      total = 0\n",
        "      correct = 0\n",
        "      #validate every 3 epoch\n",
        "      if (u+1)%3 ==0:\n",
        "        with torch.no_grad():\n",
        "          for data,target in valid_dataloader:\n",
        "            data = data.to(device)\n",
        "            target = target.to(device)\n",
        "            output = cnn(data).to(device)\n",
        "            _,predicted = torch.max(output,dim=1)\n",
        "            total += target.size(0)\n",
        "            correct += (predicted==target).sum().item()\n",
        "    # your code here\n",
        "      if total!=0:\n",
        "        mean_acc = correct/total\n",
        "        print(mean_acc)\n",
        "      \n",
        "      #save accuracy to save best model \n",
        "      if mean_acc >0.60 and mean_acc>best_acc:\n",
        "        print(\"==================================\"\\\n",
        "                    \"Current Model Saved\"\\\n",
        "              \"==================================\")\n",
        "        \n",
        "        #save model to file\n",
        "        if not os.path.isdir('checkpoint'):\n",
        "          os.mkdir('checkpoint')\n",
        "        torch.save(cnn.state_dict(), './checkpoint/ckpt.pth')\n",
        "        best_acc = mean_acc\n",
        "      \n",
        "      #lr anneal\n",
        "      scheduler.step()\n",
        "      \n",
        "    return cnn,epoch_loss\n",
        "\n",
        "def save_model_colab_for_submission(model):  # if you are running on colab\n",
        "  drive.mount('/content/gdrive/', force_remount=True)\n",
        "  torch.save(model.to(torch.device(\"cpu\")), '/content/gdrive/My Drive/model.pt') # you will find the model in your home drive\n",
        "  \n",
        "def save_model_local_for_submission(model):  # if you are running on your local machine\n",
        "  torch.save(model.to(torch.device(\"cpu\")), 'model.pt')\n",
        "\n",
        "#TODO: Implement testing\n",
        "def test(net, testloader, device):\n",
        "    correct = 0\n",
        "    total = 0\n",
        "    ###\n",
        "    net.eval()\n",
        "\n",
        "    with torch.no_grad():\n",
        "      for data,target  in testloader:\n",
        "        data = data.to(device)\n",
        "        target = target.to(device)\n",
        "        output = net(data)\n",
        "        _,predicted = torch.max(output,dim=1)\n",
        "\n",
        "        total += target.size(0)\n",
        "        correct +=(predicted==target).sum().item()\n",
        "\n",
        "    return 100.*correct/total, correct, total\n",
        "\n",
        "def run():\n",
        "  # set parameters cifar10\n",
        "  config = {\n",
        "        'lr': 0.01,\n",
        "        'num_epochs': 70,\n",
        "        'batch_size': 64,\n",
        "        'num_classes': 10,\n",
        "        'momentum':0.99,\n",
        "        'regular_constant': 3e-3,\n",
        "       }\n",
        "    \n",
        "  device = torch.device(\"cuda\" if torch.cuda.is_available() else \"cpu\")\n",
        "  \n",
        "  train_dataloader, valid_dataloader, test_dataloader = load_data(config)\n",
        "  \n",
        "  model,losses = train(train_dataloader, valid_dataloader, device, config)\n",
        "  Epoch_loss = losses\n",
        "  # Testing and saving for submission\n",
        "  device = torch.device(\"cuda\")\n",
        "  \n",
        "  assert os.path.isdir('checkpoint'), 'Error: no checkpoint directory found!'\n",
        "  checkpoint = torch.load('./checkpoint/ckpt.pth')\n",
        "  model.load_state_dict(checkpoint)\n",
        "  \n",
        "  model.eval()\n",
        "  \n",
        "  start_time = timeit.default_timer()\n",
        "  test_acc, test_correct, test_total = test(model.to(device), test_dataloader, device)\n",
        "  end_time = timeit.default_timer()\n",
        "  test_time = (end_time - start_time)\n",
        "  \n",
        "  #save_model_colab_for_submission(model)\n",
        "  print(losses)\n",
        "  return test_acc, test_correct\n",
        "\n",
        "\"\"\"Main loop. Run time and total score will be shown below.\"\"\"\n",
        "\n",
        "# Don't edit this cell\n",
        "\n",
        "\n",
        "def main():\n",
        "    \n",
        "  accuracy, correct = run()\n",
        "  \n",
        "  \n",
        "  \n",
        "  result = OrderedDict(correct=correct, accuracy=accuracy,\n",
        "                        \n",
        "                        )\n",
        "  \n",
        "  with open('result.txt', 'w') as f:\n",
        "      f.writelines(pformat(result, indent=4))\n",
        "  print(\"\\nResult:\\n\", pformat(result, indent=4))\n",
        "\n",
        "\n",
        "main()"
      ],
      "execution_count": 15,
      "outputs": [
        {
          "output_type": "stream",
          "text": [
            "Files already downloaded and verified\n",
            "Files already downloaded and verified\n"
          ],
          "name": "stdout"
        },
        {
          "output_type": "stream",
          "text": [
            "100%|██████████| 704/704 [00:19<00:00, 35.47it/s]"
          ],
          "name": "stderr"
        },
        {
          "output_type": "stream",
          "text": [
            "epoch version:  1\n"
          ],
          "name": "stdout"
        },
        {
          "output_type": "stream",
          "text": [
            "\n",
            "100%|██████████| 704/704 [00:19<00:00, 36.03it/s]"
          ],
          "name": "stderr"
        },
        {
          "output_type": "stream",
          "text": [
            "epoch version:  2\n"
          ],
          "name": "stdout"
        },
        {
          "output_type": "stream",
          "text": [
            "\n",
            "100%|██████████| 704/704 [00:19<00:00, 36.20it/s]"
          ],
          "name": "stderr"
        },
        {
          "output_type": "stream",
          "text": [
            "epoch version:  3\n"
          ],
          "name": "stdout"
        },
        {
          "output_type": "stream",
          "text": [
            "\n"
          ],
          "name": "stderr"
        },
        {
          "output_type": "stream",
          "text": [
            "0.3936\n"
          ],
          "name": "stdout"
        },
        {
          "output_type": "stream",
          "text": [
            "100%|██████████| 704/704 [00:19<00:00, 36.21it/s]"
          ],
          "name": "stderr"
        },
        {
          "output_type": "stream",
          "text": [
            "epoch version:  4\n"
          ],
          "name": "stdout"
        },
        {
          "output_type": "stream",
          "text": [
            "\n",
            "100%|██████████| 704/704 [00:19<00:00, 36.37it/s]\n"
          ],
          "name": "stderr"
        },
        {
          "output_type": "stream",
          "text": [
            "epoch version:  5\n"
          ],
          "name": "stdout"
        },
        {
          "output_type": "stream",
          "text": [
            "100%|██████████| 704/704 [00:19<00:00, 36.68it/s]"
          ],
          "name": "stderr"
        },
        {
          "output_type": "stream",
          "text": [
            "epoch version:  6\n"
          ],
          "name": "stdout"
        },
        {
          "output_type": "stream",
          "text": [
            "\n"
          ],
          "name": "stderr"
        },
        {
          "output_type": "stream",
          "text": [
            "0.3886\n"
          ],
          "name": "stdout"
        },
        {
          "output_type": "stream",
          "text": [
            "100%|██████████| 704/704 [00:19<00:00, 36.67it/s]"
          ],
          "name": "stderr"
        },
        {
          "output_type": "stream",
          "text": [
            "epoch version:  7\n"
          ],
          "name": "stdout"
        },
        {
          "output_type": "stream",
          "text": [
            "\n",
            "100%|██████████| 704/704 [00:19<00:00, 36.71it/s]"
          ],
          "name": "stderr"
        },
        {
          "output_type": "stream",
          "text": [
            "epoch version:  8\n"
          ],
          "name": "stdout"
        },
        {
          "output_type": "stream",
          "text": [
            "\n",
            "100%|██████████| 704/704 [00:19<00:00, 36.59it/s]"
          ],
          "name": "stderr"
        },
        {
          "output_type": "stream",
          "text": [
            "epoch version:  9\n"
          ],
          "name": "stdout"
        },
        {
          "output_type": "stream",
          "text": [
            "\n"
          ],
          "name": "stderr"
        },
        {
          "output_type": "stream",
          "text": [
            "0.415\n"
          ],
          "name": "stdout"
        },
        {
          "output_type": "stream",
          "text": [
            "100%|██████████| 704/704 [00:19<00:00, 36.77it/s]"
          ],
          "name": "stderr"
        },
        {
          "output_type": "stream",
          "text": [
            "epoch version:  10\n"
          ],
          "name": "stdout"
        },
        {
          "output_type": "stream",
          "text": [
            "\n",
            "100%|██████████| 704/704 [00:19<00:00, 35.93it/s]"
          ],
          "name": "stderr"
        },
        {
          "output_type": "stream",
          "text": [
            "epoch version:  11\n"
          ],
          "name": "stdout"
        },
        {
          "output_type": "stream",
          "text": [
            "\n",
            "100%|██████████| 704/704 [00:19<00:00, 36.12it/s]"
          ],
          "name": "stderr"
        },
        {
          "output_type": "stream",
          "text": [
            "epoch version:  12\n"
          ],
          "name": "stdout"
        },
        {
          "output_type": "stream",
          "text": [
            "\n"
          ],
          "name": "stderr"
        },
        {
          "output_type": "stream",
          "text": [
            "0.4502\n"
          ],
          "name": "stdout"
        },
        {
          "output_type": "stream",
          "text": [
            "100%|██████████| 704/704 [00:19<00:00, 36.51it/s]"
          ],
          "name": "stderr"
        },
        {
          "output_type": "stream",
          "text": [
            "epoch version:  13\n"
          ],
          "name": "stdout"
        },
        {
          "output_type": "stream",
          "text": [
            "\n",
            "100%|██████████| 704/704 [00:18<00:00, 37.46it/s]"
          ],
          "name": "stderr"
        },
        {
          "output_type": "stream",
          "text": [
            "epoch version:  14\n"
          ],
          "name": "stdout"
        },
        {
          "output_type": "stream",
          "text": [
            "\n",
            "100%|██████████| 704/704 [00:18<00:00, 37.66it/s]"
          ],
          "name": "stderr"
        },
        {
          "output_type": "stream",
          "text": [
            "epoch version:  15\n"
          ],
          "name": "stdout"
        },
        {
          "output_type": "stream",
          "text": [
            "\n"
          ],
          "name": "stderr"
        },
        {
          "output_type": "stream",
          "text": [
            "0.4194\n"
          ],
          "name": "stdout"
        },
        {
          "output_type": "stream",
          "text": [
            "100%|██████████| 704/704 [00:18<00:00, 37.72it/s]"
          ],
          "name": "stderr"
        },
        {
          "output_type": "stream",
          "text": [
            "epoch version:  16\n"
          ],
          "name": "stdout"
        },
        {
          "output_type": "stream",
          "text": [
            "\n",
            "100%|██████████| 704/704 [00:18<00:00, 38.24it/s]"
          ],
          "name": "stderr"
        },
        {
          "output_type": "stream",
          "text": [
            "epoch version:  17\n"
          ],
          "name": "stdout"
        },
        {
          "output_type": "stream",
          "text": [
            "\n",
            "100%|██████████| 704/704 [00:18<00:00, 37.83it/s]"
          ],
          "name": "stderr"
        },
        {
          "output_type": "stream",
          "text": [
            "epoch version:  18\n"
          ],
          "name": "stdout"
        },
        {
          "output_type": "stream",
          "text": [
            "\n"
          ],
          "name": "stderr"
        },
        {
          "output_type": "stream",
          "text": [
            "0.6128\n",
            "==================================Current Model Saved==================================\n"
          ],
          "name": "stdout"
        },
        {
          "output_type": "stream",
          "text": [
            "100%|██████████| 704/704 [00:18<00:00, 38.76it/s]"
          ],
          "name": "stderr"
        },
        {
          "output_type": "stream",
          "text": [
            "epoch version:  19\n"
          ],
          "name": "stdout"
        },
        {
          "output_type": "stream",
          "text": [
            "\n",
            "100%|██████████| 704/704 [00:17<00:00, 39.18it/s]"
          ],
          "name": "stderr"
        },
        {
          "output_type": "stream",
          "text": [
            "epoch version:  20\n"
          ],
          "name": "stdout"
        },
        {
          "output_type": "stream",
          "text": [
            "\n",
            "100%|██████████| 704/704 [00:17<00:00, 39.31it/s]"
          ],
          "name": "stderr"
        },
        {
          "output_type": "stream",
          "text": [
            "epoch version:  21\n"
          ],
          "name": "stdout"
        },
        {
          "output_type": "stream",
          "text": [
            "\n"
          ],
          "name": "stderr"
        },
        {
          "output_type": "stream",
          "text": [
            "0.6392\n",
            "==================================Current Model Saved==================================\n"
          ],
          "name": "stdout"
        },
        {
          "output_type": "stream",
          "text": [
            "100%|██████████| 704/704 [00:17<00:00, 39.16it/s]"
          ],
          "name": "stderr"
        },
        {
          "output_type": "stream",
          "text": [
            "epoch version:  22\n"
          ],
          "name": "stdout"
        },
        {
          "output_type": "stream",
          "text": [
            "\n",
            "100%|██████████| 704/704 [00:17<00:00, 39.43it/s]"
          ],
          "name": "stderr"
        },
        {
          "output_type": "stream",
          "text": [
            "epoch version:  23\n"
          ],
          "name": "stdout"
        },
        {
          "output_type": "stream",
          "text": [
            "\n",
            "100%|██████████| 704/704 [00:18<00:00, 39.05it/s]"
          ],
          "name": "stderr"
        },
        {
          "output_type": "stream",
          "text": [
            "epoch version:  24\n"
          ],
          "name": "stdout"
        },
        {
          "output_type": "stream",
          "text": [
            "\n"
          ],
          "name": "stderr"
        },
        {
          "output_type": "stream",
          "text": [
            "0.6418\n",
            "==================================Current Model Saved==================================\n"
          ],
          "name": "stdout"
        },
        {
          "output_type": "stream",
          "text": [
            "100%|██████████| 704/704 [00:17<00:00, 39.53it/s]"
          ],
          "name": "stderr"
        },
        {
          "output_type": "stream",
          "text": [
            "epoch version:  25\n"
          ],
          "name": "stdout"
        },
        {
          "output_type": "stream",
          "text": [
            "\n",
            "100%|██████████| 704/704 [00:18<00:00, 39.06it/s]"
          ],
          "name": "stderr"
        },
        {
          "output_type": "stream",
          "text": [
            "epoch version:  26\n"
          ],
          "name": "stdout"
        },
        {
          "output_type": "stream",
          "text": [
            "\n",
            "100%|██████████| 704/704 [00:17<00:00, 39.16it/s]"
          ],
          "name": "stderr"
        },
        {
          "output_type": "stream",
          "text": [
            "epoch version:  27\n"
          ],
          "name": "stdout"
        },
        {
          "output_type": "stream",
          "text": [
            "\n"
          ],
          "name": "stderr"
        },
        {
          "output_type": "stream",
          "text": [
            "0.6592\n",
            "==================================Current Model Saved==================================\n"
          ],
          "name": "stdout"
        },
        {
          "output_type": "stream",
          "text": [
            "100%|██████████| 704/704 [00:17<00:00, 39.20it/s]"
          ],
          "name": "stderr"
        },
        {
          "output_type": "stream",
          "text": [
            "epoch version:  28\n"
          ],
          "name": "stdout"
        },
        {
          "output_type": "stream",
          "text": [
            "\n",
            "100%|██████████| 704/704 [00:17<00:00, 39.72it/s]"
          ],
          "name": "stderr"
        },
        {
          "output_type": "stream",
          "text": [
            "epoch version:  29\n"
          ],
          "name": "stdout"
        },
        {
          "output_type": "stream",
          "text": [
            "\n",
            "100%|██████████| 704/704 [00:17<00:00, 39.34it/s]"
          ],
          "name": "stderr"
        },
        {
          "output_type": "stream",
          "text": [
            "epoch version:  30\n"
          ],
          "name": "stdout"
        },
        {
          "output_type": "stream",
          "text": [
            "\n"
          ],
          "name": "stderr"
        },
        {
          "output_type": "stream",
          "text": [
            "0.6754\n",
            "==================================Current Model Saved==================================\n"
          ],
          "name": "stdout"
        },
        {
          "output_type": "stream",
          "text": [
            "100%|██████████| 704/704 [00:17<00:00, 39.25it/s]"
          ],
          "name": "stderr"
        },
        {
          "output_type": "stream",
          "text": [
            "epoch version:  31\n"
          ],
          "name": "stdout"
        },
        {
          "output_type": "stream",
          "text": [
            "\n",
            "100%|██████████| 704/704 [00:17<00:00, 39.28it/s]\n"
          ],
          "name": "stderr"
        },
        {
          "output_type": "stream",
          "text": [
            "epoch version:  32\n"
          ],
          "name": "stdout"
        },
        {
          "output_type": "stream",
          "text": [
            "100%|██████████| 704/704 [00:17<00:00, 39.65it/s]"
          ],
          "name": "stderr"
        },
        {
          "output_type": "stream",
          "text": [
            "epoch version:  33\n"
          ],
          "name": "stdout"
        },
        {
          "output_type": "stream",
          "text": [
            "\n"
          ],
          "name": "stderr"
        },
        {
          "output_type": "stream",
          "text": [
            "0.7046\n",
            "==================================Current Model Saved==================================\n"
          ],
          "name": "stdout"
        },
        {
          "output_type": "stream",
          "text": [
            "100%|██████████| 704/704 [00:18<00:00, 39.01it/s]"
          ],
          "name": "stderr"
        },
        {
          "output_type": "stream",
          "text": [
            "epoch version:  34\n"
          ],
          "name": "stdout"
        },
        {
          "output_type": "stream",
          "text": [
            "\n",
            "100%|██████████| 704/704 [00:19<00:00, 35.78it/s]"
          ],
          "name": "stderr"
        },
        {
          "output_type": "stream",
          "text": [
            "epoch version:  35\n"
          ],
          "name": "stdout"
        },
        {
          "output_type": "stream",
          "text": [
            "\n",
            "100%|██████████| 704/704 [00:19<00:00, 35.47it/s]"
          ],
          "name": "stderr"
        },
        {
          "output_type": "stream",
          "text": [
            "epoch version:  36\n"
          ],
          "name": "stdout"
        },
        {
          "output_type": "stream",
          "text": [
            "\n"
          ],
          "name": "stderr"
        },
        {
          "output_type": "stream",
          "text": [
            "0.7004\n"
          ],
          "name": "stdout"
        },
        {
          "output_type": "stream",
          "text": [
            "100%|██████████| 704/704 [00:20<00:00, 35.17it/s]"
          ],
          "name": "stderr"
        },
        {
          "output_type": "stream",
          "text": [
            "epoch version:  37\n"
          ],
          "name": "stdout"
        },
        {
          "output_type": "stream",
          "text": [
            "\n",
            "100%|██████████| 704/704 [00:19<00:00, 36.53it/s]\n"
          ],
          "name": "stderr"
        },
        {
          "output_type": "stream",
          "text": [
            "epoch version:  38\n"
          ],
          "name": "stdout"
        },
        {
          "output_type": "stream",
          "text": [
            "100%|██████████| 704/704 [00:19<00:00, 36.40it/s]"
          ],
          "name": "stderr"
        },
        {
          "output_type": "stream",
          "text": [
            "epoch version:  39\n"
          ],
          "name": "stdout"
        },
        {
          "output_type": "stream",
          "text": [
            "\n"
          ],
          "name": "stderr"
        },
        {
          "output_type": "stream",
          "text": [
            "0.7248\n",
            "==================================Current Model Saved==================================\n"
          ],
          "name": "stdout"
        },
        {
          "output_type": "stream",
          "text": [
            "100%|██████████| 704/704 [00:19<00:00, 36.07it/s]\n"
          ],
          "name": "stderr"
        },
        {
          "output_type": "stream",
          "text": [
            "epoch version:  40\n"
          ],
          "name": "stdout"
        },
        {
          "output_type": "stream",
          "text": [
            "100%|██████████| 704/704 [00:19<00:00, 36.32it/s]"
          ],
          "name": "stderr"
        },
        {
          "output_type": "stream",
          "text": [
            "epoch version:  41\n"
          ],
          "name": "stdout"
        },
        {
          "output_type": "stream",
          "text": [
            "\n",
            "100%|██████████| 704/704 [00:19<00:00, 36.37it/s]"
          ],
          "name": "stderr"
        },
        {
          "output_type": "stream",
          "text": [
            "epoch version:  42\n"
          ],
          "name": "stdout"
        },
        {
          "output_type": "stream",
          "text": [
            "\n"
          ],
          "name": "stderr"
        },
        {
          "output_type": "stream",
          "text": [
            "0.725\n",
            "==================================Current Model Saved==================================\n"
          ],
          "name": "stdout"
        },
        {
          "output_type": "stream",
          "text": [
            "100%|██████████| 704/704 [00:20<00:00, 34.91it/s]"
          ],
          "name": "stderr"
        },
        {
          "output_type": "stream",
          "text": [
            "epoch version:  43\n"
          ],
          "name": "stdout"
        },
        {
          "output_type": "stream",
          "text": [
            "\n",
            "100%|██████████| 704/704 [00:19<00:00, 35.57it/s]"
          ],
          "name": "stderr"
        },
        {
          "output_type": "stream",
          "text": [
            "epoch version:  44\n"
          ],
          "name": "stdout"
        },
        {
          "output_type": "stream",
          "text": [
            "\n",
            "100%|██████████| 704/704 [00:20<00:00, 35.17it/s]"
          ],
          "name": "stderr"
        },
        {
          "output_type": "stream",
          "text": [
            "epoch version:  45\n"
          ],
          "name": "stdout"
        },
        {
          "output_type": "stream",
          "text": [
            "\n"
          ],
          "name": "stderr"
        },
        {
          "output_type": "stream",
          "text": [
            "0.7238\n"
          ],
          "name": "stdout"
        },
        {
          "output_type": "stream",
          "text": [
            "100%|██████████| 704/704 [00:20<00:00, 34.48it/s]"
          ],
          "name": "stderr"
        },
        {
          "output_type": "stream",
          "text": [
            "epoch version:  46\n"
          ],
          "name": "stdout"
        },
        {
          "output_type": "stream",
          "text": [
            "\n",
            "100%|██████████| 704/704 [00:20<00:00, 34.66it/s]\n"
          ],
          "name": "stderr"
        },
        {
          "output_type": "stream",
          "text": [
            "epoch version:  47\n"
          ],
          "name": "stdout"
        },
        {
          "output_type": "stream",
          "text": [
            "100%|██████████| 704/704 [00:20<00:00, 34.43it/s]"
          ],
          "name": "stderr"
        },
        {
          "output_type": "stream",
          "text": [
            "epoch version:  48\n"
          ],
          "name": "stdout"
        },
        {
          "output_type": "stream",
          "text": [
            "\n"
          ],
          "name": "stderr"
        },
        {
          "output_type": "stream",
          "text": [
            "0.7322\n",
            "==================================Current Model Saved==================================\n"
          ],
          "name": "stdout"
        },
        {
          "output_type": "stream",
          "text": [
            "100%|██████████| 704/704 [00:20<00:00, 34.05it/s]"
          ],
          "name": "stderr"
        },
        {
          "output_type": "stream",
          "text": [
            "epoch version:  49\n"
          ],
          "name": "stdout"
        },
        {
          "output_type": "stream",
          "text": [
            "\n",
            "100%|██████████| 704/704 [00:20<00:00, 34.17it/s]"
          ],
          "name": "stderr"
        },
        {
          "output_type": "stream",
          "text": [
            "epoch version:  50\n"
          ],
          "name": "stdout"
        },
        {
          "output_type": "stream",
          "text": [
            "\n",
            "100%|██████████| 704/704 [00:19<00:00, 35.84it/s]"
          ],
          "name": "stderr"
        },
        {
          "output_type": "stream",
          "text": [
            "epoch version:  51\n"
          ],
          "name": "stdout"
        },
        {
          "output_type": "stream",
          "text": [
            "\n"
          ],
          "name": "stderr"
        },
        {
          "output_type": "stream",
          "text": [
            "0.7244\n"
          ],
          "name": "stdout"
        },
        {
          "output_type": "stream",
          "text": [
            "100%|██████████| 704/704 [00:19<00:00, 35.39it/s]\n"
          ],
          "name": "stderr"
        },
        {
          "output_type": "stream",
          "text": [
            "epoch version:  52\n"
          ],
          "name": "stdout"
        },
        {
          "output_type": "stream",
          "text": [
            "100%|██████████| 704/704 [00:19<00:00, 35.54it/s]"
          ],
          "name": "stderr"
        },
        {
          "output_type": "stream",
          "text": [
            "epoch version:  53\n"
          ],
          "name": "stdout"
        },
        {
          "output_type": "stream",
          "text": [
            "\n",
            "100%|██████████| 704/704 [00:19<00:00, 35.46it/s]"
          ],
          "name": "stderr"
        },
        {
          "output_type": "stream",
          "text": [
            "epoch version:  54\n"
          ],
          "name": "stdout"
        },
        {
          "output_type": "stream",
          "text": [
            "\n"
          ],
          "name": "stderr"
        },
        {
          "output_type": "stream",
          "text": [
            "0.728\n"
          ],
          "name": "stdout"
        },
        {
          "output_type": "stream",
          "text": [
            "100%|██████████| 704/704 [00:21<00:00, 33.46it/s]"
          ],
          "name": "stderr"
        },
        {
          "output_type": "stream",
          "text": [
            "epoch version:  55\n"
          ],
          "name": "stdout"
        },
        {
          "output_type": "stream",
          "text": [
            "\n",
            "100%|██████████| 704/704 [00:21<00:00, 33.18it/s]\n"
          ],
          "name": "stderr"
        },
        {
          "output_type": "stream",
          "text": [
            "epoch version:  56\n"
          ],
          "name": "stdout"
        },
        {
          "output_type": "stream",
          "text": [
            "100%|██████████| 704/704 [00:20<00:00, 34.18it/s]"
          ],
          "name": "stderr"
        },
        {
          "output_type": "stream",
          "text": [
            "epoch version:  57\n"
          ],
          "name": "stdout"
        },
        {
          "output_type": "stream",
          "text": [
            "\n"
          ],
          "name": "stderr"
        },
        {
          "output_type": "stream",
          "text": [
            "0.7276\n"
          ],
          "name": "stdout"
        },
        {
          "output_type": "stream",
          "text": [
            "100%|██████████| 704/704 [00:20<00:00, 34.78it/s]"
          ],
          "name": "stderr"
        },
        {
          "output_type": "stream",
          "text": [
            "epoch version:  58\n"
          ],
          "name": "stdout"
        },
        {
          "output_type": "stream",
          "text": [
            "\n",
            "100%|██████████| 704/704 [00:19<00:00, 35.27it/s]\n"
          ],
          "name": "stderr"
        },
        {
          "output_type": "stream",
          "text": [
            "epoch version:  59\n"
          ],
          "name": "stdout"
        },
        {
          "output_type": "stream",
          "text": [
            "100%|██████████| 704/704 [00:20<00:00, 35.12it/s]"
          ],
          "name": "stderr"
        },
        {
          "output_type": "stream",
          "text": [
            "epoch version:  60\n"
          ],
          "name": "stdout"
        },
        {
          "output_type": "stream",
          "text": [
            "\n"
          ],
          "name": "stderr"
        },
        {
          "output_type": "stream",
          "text": [
            "0.7374\n",
            "==================================Current Model Saved==================================\n"
          ],
          "name": "stdout"
        },
        {
          "output_type": "stream",
          "text": [
            "100%|██████████| 704/704 [00:20<00:00, 34.97it/s]"
          ],
          "name": "stderr"
        },
        {
          "output_type": "stream",
          "text": [
            "epoch version:  61\n"
          ],
          "name": "stdout"
        },
        {
          "output_type": "stream",
          "text": [
            "\n",
            "100%|██████████| 704/704 [00:20<00:00, 34.69it/s]"
          ],
          "name": "stderr"
        },
        {
          "output_type": "stream",
          "text": [
            "epoch version:  62\n"
          ],
          "name": "stdout"
        },
        {
          "output_type": "stream",
          "text": [
            "\n",
            "100%|██████████| 704/704 [00:20<00:00, 35.15it/s]"
          ],
          "name": "stderr"
        },
        {
          "output_type": "stream",
          "text": [
            "epoch version:  63\n"
          ],
          "name": "stdout"
        },
        {
          "output_type": "stream",
          "text": [
            "\n"
          ],
          "name": "stderr"
        },
        {
          "output_type": "stream",
          "text": [
            "0.7308\n"
          ],
          "name": "stdout"
        },
        {
          "output_type": "stream",
          "text": [
            "100%|██████████| 704/704 [00:19<00:00, 35.98it/s]"
          ],
          "name": "stderr"
        },
        {
          "output_type": "stream",
          "text": [
            "epoch version:  64\n"
          ],
          "name": "stdout"
        },
        {
          "output_type": "stream",
          "text": [
            "\n",
            "100%|██████████| 704/704 [00:19<00:00, 36.71it/s]\n"
          ],
          "name": "stderr"
        },
        {
          "output_type": "stream",
          "text": [
            "epoch version:  65\n"
          ],
          "name": "stdout"
        },
        {
          "output_type": "stream",
          "text": [
            "100%|██████████| 704/704 [00:19<00:00, 36.64it/s]"
          ],
          "name": "stderr"
        },
        {
          "output_type": "stream",
          "text": [
            "epoch version:  66\n"
          ],
          "name": "stdout"
        },
        {
          "output_type": "stream",
          "text": [
            "\n"
          ],
          "name": "stderr"
        },
        {
          "output_type": "stream",
          "text": [
            "0.7308\n"
          ],
          "name": "stdout"
        },
        {
          "output_type": "stream",
          "text": [
            "100%|██████████| 704/704 [00:18<00:00, 37.07it/s]"
          ],
          "name": "stderr"
        },
        {
          "output_type": "stream",
          "text": [
            "epoch version:  67\n"
          ],
          "name": "stdout"
        },
        {
          "output_type": "stream",
          "text": [
            "\n",
            "100%|██████████| 704/704 [00:18<00:00, 37.16it/s]\n"
          ],
          "name": "stderr"
        },
        {
          "output_type": "stream",
          "text": [
            "epoch version:  68\n"
          ],
          "name": "stdout"
        },
        {
          "output_type": "stream",
          "text": [
            "100%|██████████| 704/704 [00:19<00:00, 36.45it/s]"
          ],
          "name": "stderr"
        },
        {
          "output_type": "stream",
          "text": [
            "epoch version:  69\n"
          ],
          "name": "stdout"
        },
        {
          "output_type": "stream",
          "text": [
            "\n"
          ],
          "name": "stderr"
        },
        {
          "output_type": "stream",
          "text": [
            "0.7282\n"
          ],
          "name": "stdout"
        },
        {
          "output_type": "stream",
          "text": [
            "100%|██████████| 704/704 [00:20<00:00, 35.12it/s]"
          ],
          "name": "stderr"
        },
        {
          "output_type": "stream",
          "text": [
            "epoch version:  70\n"
          ],
          "name": "stdout"
        },
        {
          "output_type": "stream",
          "text": [
            "\n"
          ],
          "name": "stderr"
        },
        {
          "output_type": "stream",
          "text": [
            "[]\n",
            "\n",
            "Result:\n",
            " OrderedDict([('correct', 7250), ('accuracy', 72.5)])\n"
          ],
          "name": "stdout"
        }
      ]
    },
    {
      "cell_type": "code",
      "metadata": {
        "colab": {
          "base_uri": "https://localhost:8080/",
          "height": 133
        },
        "id": "O75HjLmRgqI8",
        "outputId": "e148f473-1f41-43e6-c1c4-158cc0259cdb"
      },
      "source": [
        "\n",
        "\n",
        "test_transforms = transforms.Compose([\n",
        "        transforms.ToTensor(),\n",
        "        \n",
        "    ])\n",
        "data = datasets.CIFAR10(root='./CIFAR10_dataset', train=False,\n",
        "                      download=True, transform=test_transforms)\n",
        "classes = data.classes\n",
        "def predict_image(image):\n",
        "    device = torch.device(\"cuda\" if torch.cuda.is_available() else \"cpu\")\n",
        "    #device = torch.device('cpu')\n",
        "    test_transforms = transforms.Compose([\n",
        "        transforms.ToTensor(),\n",
        "        transforms.Normalize((0.4914, 0.4822, 0.4465), (0.2023, 0.1994, 0.2010)),\n",
        "    ])\n",
        "    image_tensor = test_transforms(image).float()\n",
        "    image_tensor = image_tensor.unsqueeze_(0)\n",
        "    input = Variable(image_tensor)\n",
        "    input = input.to(device)\n",
        "    output = cnn(input)\n",
        "    index = output.data.cpu().numpy().argmax()\n",
        "    return index\n",
        "\n",
        "def get_random_images(num):\n",
        "    #data = datasets.ImageFolder(train_dataloader, transform=test_transforms)\n",
        "    #data = datasets.CIFAR10(root='./CIFAR10_dataset', train=False,\n",
        "                      #download=True, transform=test_transforms)\n",
        "    classes = data.classes\n",
        "    indices = list(range(len(data)))\n",
        "    np.random.shuffle(indices)\n",
        "    idx = indices[:num]\n",
        "    \n",
        "    sampler = SubsetRandomSampler(idx)\n",
        "    loader = torch.utils.data.DataLoader(data, \n",
        "                   sampler=sampler, batch_size=num)\n",
        "    dataiter = iter(loader)\n",
        "    images, labels = dataiter.next()\n",
        "    return images, labels\n",
        "\n",
        "to_pil = transforms.ToPILImage()\n",
        "images, labels = get_random_images(7)\n",
        "fig=plt.figure(figsize=(10,10))\n",
        "for i in range(len(images)):\n",
        "    image = to_pil(images[i])\n",
        "    index = predict_image(image)\n",
        "    sub = fig.add_subplot(1, len(images), i+1)\n",
        "    res = int(labels[i]) == index\n",
        "    sub.set_title(str(classes[index]) + \":\" + str(res))\n",
        "    plt.axis('off')\n",
        "    plt.imshow(image)\n",
        "plt.show()"
      ],
      "execution_count": 41,
      "outputs": [
        {
          "output_type": "stream",
          "text": [
            "Files already downloaded and verified\n"
          ],
          "name": "stdout"
        },
        {
          "output_type": "display_data",
          "data": {
            "image/png": "[encoded data removed]",
            "text/plain": [
              "<Figure size 720x720 with 7 Axes>"
            ]
          },
          "metadata": {
            "tags": [],
            "needs_background": "light"
          }
        }
      ]
    },
    {
      "cell_type": "code",
      "metadata": {
        "id": "jxtIrp3B-t9C"
      },
      "source": [
        "Epoch_loss= np.array((Epoch_loss))*0.01\n"
      ],
      "execution_count": 21,
      "outputs": []
    },
    {
      "cell_type": "code",
      "metadata": {
        "colab": {
          "base_uri": "https://localhost:8080/",
          "height": 313
        },
        "id": "g_sN2HLfXWq-",
        "outputId": "c9e9dff0-9756-4813-9a6a-0b5ddfc1ad03"
      },
      "source": [
        "plt.axes(ylabel='Loss',xlabel='Epoch',title='Loss graph')\n",
        "plt.plot(Epoch_loss)"
      ],
      "execution_count": 44,
      "outputs": [
        {
          "output_type": "execute_result",
          "data": {
            "text/plain": [
              "[<matplotlib.lines.Line2D at 0x7fb78c8ac588>]"
            ]
          },
          "metadata": {
            "tags": []
          },
          "execution_count": 44
        },
        {
          "output_type": "display_data",
          "data": {
            "image/png": "[encoded data removed]",
            "text/plain": [
              "<Figure size 432x288 with 1 Axes>"
            ]
          },
          "metadata": {
            "tags": [],
            "needs_background": "light"
          }
        }
      ]
    },
    {
      "cell_type": "code",
      "metadata": {
        "id": "WmAJeigJXWQg"
      },
      "source": [
        ""
      ],
      "execution_count": null,
      "outputs": []
    }
  ]
}